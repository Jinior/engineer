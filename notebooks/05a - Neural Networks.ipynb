{
 "cells": [
  {
   "cell_type": "markdown",
   "metadata": {
    "slideshow": {
     "slide_type": "slide"
    }
   },
   "source": [
    "# Neural Networks\n",
    "\n",
    "Joaquin Vanschoren, Eindhoven University of Technology"
   ]
  },
  {
   "cell_type": "code",
   "execution_count": 12,
   "metadata": {
    "hide_input": false,
    "slideshow": {
     "slide_type": "skip"
    }
   },
   "outputs": [
    {
     "name": "stdout",
     "output_type": "stream",
     "text": [
      "Using Keras 2.1.5\n"
     ]
    },
    {
     "data": {
      "text/html": [
       "<style>html, body{overflow-y: visible !important} .CodeMirror{min-width:105% !important;} .rise-enabled .CodeMirror, .rise-enabled .output_subarea{font-size:140%; line-height:1.2; overflow: visible;} .output_subarea pre{width:110%}</style>"
      ],
      "text/plain": [
       "<IPython.core.display.HTML object>"
      ]
     },
     "execution_count": 12,
     "metadata": {},
     "output_type": "execute_result"
    }
   ],
   "source": [
    "# Global imports and settings\n",
    "from preamble import *\n",
    "import keras\n",
    "print(\"Using Keras\",keras.__version__)\n",
    "%matplotlib inline\n",
    "plt.rcParams['figure.dpi'] = 125 # Use 300 for PDF, 100 for slides\n",
    "# InteractiveShell.ast_node_interactivity = \"all\"\n",
    "HTML('''<style>html, body{overflow-y: visible !important} .CodeMirror{min-width:105% !important;} .rise-enabled .CodeMirror, .rise-enabled .output_subarea{font-size:140%; line-height:1.2; overflow: visible;} .output_subarea pre{width:110%}</style>''') # For slides"
   ]
  },
  {
   "cell_type": "code",
   "execution_count": 13,
   "metadata": {
    "slideshow": {
     "slide_type": "skip"
    }
   },
   "outputs": [
    {
     "data": {
      "application/javascript": [
       "IPython.OutputArea.prototype._should_scroll = function(lines) {\n",
       "    return false;\n",
       "}"
      ],
      "text/plain": [
       "<IPython.core.display.Javascript object>"
      ]
     },
     "metadata": {},
     "output_type": "display_data"
    }
   ],
   "source": [
    "%%javascript\n",
    "IPython.OutputArea.prototype._should_scroll = function(lines) {\n",
    "    return false;\n",
    "}"
   ]
  },
  {
   "cell_type": "markdown",
   "metadata": {
    "slideshow": {
     "slide_type": "slide"
    }
   },
   "source": [
    "## Mathematical Foundations\n",
    "* A first example\n",
    "* Tensors and tensor operations\n",
    "* Backpropagation and gradient descent"
   ]
  },
  {
   "cell_type": "markdown",
   "metadata": {
    "slideshow": {
     "slide_type": "slide"
    }
   },
   "source": [
    "### A first example: classifying digits\n",
    "- This example is meant to introduce the main concepts. We'll cover them in more detail later.\n",
    "- MNIST dataset contains 28x28 pixel images of handwritten digits (0-9)\n",
    "- The goal is to classify each image as one of the possible digits\n",
    "- We __reshape__ the data to a 70000x28x28 __tensor__ (n-dimensional matrix)  \n",
    "    `X = X.reshape(70000, 28, 28)`\n",
    "- Traditional holdout uses the last 10,000 images for testing"
   ]
  },
  {
   "cell_type": "code",
   "execution_count": 14,
   "metadata": {
    "hide_input": true
   },
   "outputs": [
    {
     "data": {
      "image/png": "[encoded data removed]",
      "text/plain": [
       "<Figure size 1250x625 with 5 Axes>"
      ]
     },
     "metadata": {},
     "output_type": "display_data"
    }
   ],
   "source": [
    "# Download MINST data. Takes a while the first time.\n",
    "mnist = oml.datasets.get_dataset(554)\n",
    "X, y = mnist.get_data(target=mnist.default_target_attribute);\n",
    "X = X.reshape(70000, 28, 28)\n",
    "\n",
    "# Take some random examples\n",
    "from random import randint\n",
    "fig, axes = plt.subplots(1, 5,  figsize=(10, 5))\n",
    "for i in range(5):\n",
    "    n = randint(0,70000)\n",
    "    axes[i].imshow(X[n], cmap=plt.cm.gray_r)\n",
    "    axes[i].set_xlabel(\"Label: {}\".format(y[n]))\n",
    "plt.show();"
   ]
  },
  {
   "cell_type": "code",
   "execution_count": 15,
   "metadata": {
    "hide_input": true
   },
   "outputs": [
    {
     "name": "stdout",
     "output_type": "stream",
     "text": [
      "Training set:  (60000, 28, 28)\n",
      "Test set:  (10000, 28, 28)\n"
     ]
    }
   ],
   "source": [
    "from sklearn.model_selection import train_test_split\n",
    "X_train, X_test, y_train, y_test = train_test_split(X, y, train_size=60000)\n",
    "print(\"Training set: \",X_train.shape)\n",
    "print(\"Test set: \",X_test.shape)"
   ]
  },
  {
   "cell_type": "markdown",
   "metadata": {
    "slideshow": {
     "slide_type": "slide"
    }
   },
   "source": [
    "Note: this is also one of the datasets that comes included with Keras:\n",
    "``` python\n",
    "from keras.datasets import mnist\n",
    "(train_images, train_labels), (test_images, test_labels) = mnist.load_data()\n",
    "```"
   ]
  },
  {
   "cell_type": "markdown",
   "metadata": {
    "slideshow": {
     "slide_type": "slide"
    }
   },
   "source": [
    "#### Neural networks\n",
    "* The core building block of a neural network is the _layer_\n",
    "* You can think of it as a _filter_ for the data\n",
    "    - Data goes in, and comes out in a more useful form\n",
    "* Layers extract new _representations_ of the data\n",
    "* _Deep learning_ models contain many such layers\n",
    "    - They progressively _distill_ (refine) the data\n",
    "<img src=\"../images/00_layers.png\" alt=\"ml\" style=\"width: 500px;\"/>"
   ]
  },
  {
   "cell_type": "markdown",
   "metadata": {
    "slideshow": {
     "slide_type": "slide"
    }
   },
   "source": [
    "* The pixel values are fed to individual _nodes_ of the _input layer_ (yellow)\n",
    "* The data then passes through one or more _hidden layers_ (blue)\n",
    "    - One type of layer is the _dense_ or _fully connected_ layer\n",
    "    - Every node is connected to all nodes in the previous and subsequent layers\n",
    "* The _output layer_ has a node for every possible outcome (digits 0-9) (red)\n",
    "    - I.e. The first node returns the probability that the input image represents a '0'\n",
    "<img src=\"../images/08_nn_manylayers.png\" alt=\"ml\" style=\"width: 500px;\"/>"
   ]
  },
  {
   "cell_type": "markdown",
   "metadata": {
    "slideshow": {
     "slide_type": "slide"
    }
   },
   "source": [
    "#### The perceptron\n",
    "* In its simplest form, each node outputs a weighted sum of the inputs: $y = \\sum_{i} x_{i}w_i + b$\n",
    "* It needs to learn the optimal set of weights to produce the right output\n",
    "    * _Bias_ $b$: modelled as the weight of an extra input that's always '1'\n",
    "* This is the same as a linear model, can only learn linear decision boundaries.\n",
    "    * Even a deep neural net of perceptrons can only learn a linear model\n",
    "<img src=\"../images/08_log_reg_nn.png\" alt=\"ml\" style=\"width: 300px;\"/>\n"
   ]
  },
  {
   "cell_type": "markdown",
   "metadata": {
    "slideshow": {
     "slide_type": "slide"
    }
   },
   "source": [
    "#### Activation functions\n",
    "* To learn a non-linear model, each hidden node has to output a non-linear _activation function_ $f$ on the weighted sum of the inputs: $h(x)=f(W_1 x+b_1)$\n",
    "* Likewise, the output nodes use an activation function $g$ on the weighted outputs of the previous layer: $o(x)=g(W_2 h(x)+b_2)$\n",
    "<img src=\"../images/08_nn_basic_arch.png\" alt=\"ml\" style=\"width: 400px;\"/>"
   ]
  },
  {
   "cell_type": "markdown",
   "metadata": {
    "slideshow": {
     "slide_type": "slide"
    }
   },
   "source": [
    "#### Activation functions\n",
    "* For hidden nodes, popular choices are the _rectified linear unit_ (ReLU) and _tanh_\n",
    "    - There are many others. We'll come back to this soon!\n",
    "    - ReLU is very cheap to compute, speeds up training\n",
    "* For classification, we use _softmax_ (or sigmoid)\n",
    "    - Transforms the input into a probability for (each specific outcome)\n",
    "    - This is exactly what we used for logistic regression!\n",
    "<img src=\"../images/08_activation.png\" alt=\"ml\" style=\"width: 1000px;\"/>"
   ]
  },
  {
   "cell_type": "markdown",
   "metadata": {
    "hide_input": false,
    "slideshow": {
     "slide_type": "slide"
    }
   },
   "source": [
    "We can now build a simple neural network for MNIST:\n",
    "* One dense hidden ReLU layer with 512 nodes\n",
    "    - Input from a 28x28 matrix\n",
    "* Output softmax layer with 10 nodes\n",
    "\n",
    "``` python\n",
    "from keras import models\n",
    "from keras import layers\n",
    "\n",
    "network = models.Sequential()\n",
    "network.add(layers.Dense(512, activation='relu', input_shape=(28 * 28,)))\n",
    "network.add(layers.Dense(10, activation='softmax'))\n",
    "\n",
    "```"
   ]
  },
  {
   "cell_type": "code",
   "execution_count": 16,
   "metadata": {
    "hide_input": false,
    "slideshow": {
     "slide_type": "skip"
    }
   },
   "outputs": [],
   "source": [
    "from keras import models\n",
    "from keras import layers\n",
    "\n",
    "network = models.Sequential()\n",
    "network.add(layers.Dense(512, activation='relu', input_shape=(28 * 28,)))\n",
    "network.add(layers.Dense(10, activation='softmax'))"
   ]
  },
  {
   "cell_type": "markdown",
   "metadata": {
    "slideshow": {
     "slide_type": "slide"
    }
   },
   "source": [
    "'Visualize' the model using `summary()` \n",
    "- Also shows the number of model parameters (weights) that need to be learned"
   ]
  },
  {
   "cell_type": "code",
   "execution_count": 17,
   "metadata": {
    "slideshow": {
     "slide_type": "-"
    }
   },
   "outputs": [
    {
     "name": "stdout",
     "output_type": "stream",
     "text": [
      "_________________________________________________________________\n",
      "Layer (type)                 Output Shape              Param #   \n",
      "=================================================================\n",
      "dense_3 (Dense)              (None, 512)               401920    \n",
      "_________________________________________________________________\n",
      "dense_4 (Dense)              (None, 10)                5130      \n",
      "=================================================================\n",
      "Total params: 407,050\n",
      "Trainable params: 407,050\n",
      "Non-trainable params: 0\n",
      "_________________________________________________________________\n"
     ]
    }
   ],
   "source": [
    "network.summary()"
   ]
  },
  {
   "cell_type": "markdown",
   "metadata": {
    "slideshow": {
     "slide_type": "slide"
    }
   },
   "source": [
    "#### Compilation\n",
    "We still need to specify how we want the network to be trained:\n",
    "* __Loss function__: The objective function used to measure how well the model is doing, and steer itself in the right direction\n",
    "    - e.g. Cross Entropy (_negative log likelihood_ or _log loss_) for classification\n",
    "* __Optimizer__: How to optimize the model weights in every iteration.\n",
    "    - usually a [variant of stochastic gradient descent](http://ruder.io/optimizing-gradient-descent/index.html#momentum)\n",
    "* __Metrics__ to monitor performance during training and testing.\n",
    "    - e.g. accuracy\n",
    "    \n",
    "``` python\n",
    "network.compile(optimizer='rmsprop',\n",
    "                loss='categorical_crossentropy',\n",
    "                metrics=['accuracy'])\n",
    "```"
   ]
  },
  {
   "cell_type": "code",
   "execution_count": 18,
   "metadata": {
    "slideshow": {
     "slide_type": "skip"
    }
   },
   "outputs": [],
   "source": [
    "network.compile(optimizer='rmsprop', loss='categorical_crossentropy', metrics=['accuracy'])"
   ]
  },
  {
   "cell_type": "markdown",
   "metadata": {
    "slideshow": {
     "slide_type": "slide"
    }
   },
   "source": [
    "#### Preprocessing \n",
    "* Neural networks are sensitive to scaling, so always scale the inputs\n",
    "* The network expects the data in shape (n, 28 * 28), so we also need to reshape\n",
    "* We also need to categorically encode the labels\n",
    "    - e.g. '4' becomes [0,0,0,0,1,0,0,0,0,0]\n",
    "\n",
    "``` python\n",
    "from keras.utils import to_categorical\n",
    "y_train = to_categorical(y_train)\n",
    "y_test = to_categorical(y_test)\n",
    "```"
   ]
  },
  {
   "cell_type": "code",
   "execution_count": 19,
   "metadata": {
    "slideshow": {
     "slide_type": "skip"
    }
   },
   "outputs": [],
   "source": [
    "X_train = X_train.reshape((60000, 28 * 28))\n",
    "X_test = X_test.reshape((10000, 28 * 28))\n",
    "\n",
    "X_train = X_train.astype('float32') / 255\n",
    "X_test = X_test.astype('float32') / 255\n",
    "\n",
    "from keras.utils import to_categorical\n",
    "y_train = to_categorical(y_train)\n",
    "y_test = to_categorical(y_test)"
   ]
  },
  {
   "cell_type": "markdown",
   "metadata": {
    "slideshow": {
     "slide_type": "slide"
    }
   },
   "source": [
    "#### Training\n",
    "Training (fitting) is done by __stochastic gradient descent__ (SGD).\n",
    "* Optimizes the model parameters (weights)\n",
    "* We'll come back to this soon"
   ]
  },
  {
   "cell_type": "code",
   "execution_count": 24,
   "metadata": {
    "slideshow": {
     "slide_type": "-"
    }
   },
   "outputs": [
    {
     "name": "stdout",
     "output_type": "stream",
     "text": [
      "Epoch 1/5\n",
      "60000/60000 [==============================] - 4s 74us/step - loss: 0.0281 - acc: 0.9916\n",
      "Epoch 2/5\n",
      "60000/60000 [==============================] - 4s 63us/step - loss: 0.0208 - acc: 0.9939\n",
      "Epoch 3/5\n",
      "60000/60000 [==============================] - 4s 63us/step - loss: 0.0156 - acc: 0.9955\n",
      "Epoch 4/5\n",
      "60000/60000 [==============================] - 4s 63us/step - loss: 0.0121 - acc: 0.9965\n",
      "Epoch 5/5\n",
      "60000/60000 [==============================] - 4s 63us/step - loss: 0.0098 - acc: 0.9972\n"
     ]
    }
   ],
   "source": [
    "network.fit(X_train, y_train, epochs=5, batch_size=128);"
   ]
  },
  {
   "cell_type": "markdown",
   "metadata": {
    "slideshow": {
     "slide_type": "slide"
    }
   },
   "source": [
    "#### Prediction\n",
    "We can now call `predict` or `predict_proba` to generate predictions\n",
    "\n",
    "``` python\n",
    "np.set_printoptions(precision=7)\n",
    "print(\"Prediction: \",network.predict(X_test)[0])\n",
    "```"
   ]
  },
  {
   "cell_type": "code",
   "execution_count": 21,
   "metadata": {},
   "outputs": [
    {
     "name": "stdout",
     "output_type": "stream",
     "text": [
      "Prediction:  [0.        0.0000002 0.        0.000001  0.9863701 0.000019  0.\n",
      " 0.0000008 0.0005651 0.0130437]\n",
      "Label:  [0. 0. 0. 0. 1. 0. 0. 0. 0. 0.]\n"
     ]
    }
   ],
   "source": [
    "np.set_printoptions(precision=7)\n",
    "print(\"Prediction: \",network.predict(X_test)[0])\n",
    "print(\"Label: \",y_test[0])"
   ]
  },
  {
   "cell_type": "markdown",
   "metadata": {
    "slideshow": {
     "slide_type": "slide"
    }
   },
   "source": [
    "#### Evaluation\n",
    "Evaluate the trained model on the entire test set\n",
    "\n",
    "``` python\n",
    "test_loss, test_acc = network.evaluate(X_test, y_test)\n",
    "print('Test accuracy:', test_acc)\n",
    "```"
   ]
  },
  {
   "cell_type": "code",
   "execution_count": 22,
   "metadata": {},
   "outputs": [
    {
     "name": "stdout",
     "output_type": "stream",
     "text": [
      "10000/10000 [==============================] - 1s 57us/step\n",
      "Test accuracy: 0.9793\n"
     ]
    }
   ],
   "source": [
    "test_loss, test_acc = network.evaluate(X_test, y_test)\n",
    "print('Test accuracy:', test_acc)"
   ]
  },
  {
   "cell_type": "markdown",
   "metadata": {
    "slideshow": {
     "slide_type": "slide"
    }
   },
   "source": [
    "#### Overfitting\n",
    "* Our test set accuracy is quite a bit lower than our training set accuracy\n",
    "* We've already seen many choices (moving pieces) that can still be optimized:\n",
    "    - Number of layers\n",
    "    - Number of nodes per layer\n",
    "    - Activation functions\n",
    "    - Loss function (and hyperparameters)\n",
    "    - SGD optimizer (and hyperparameters)\n",
    "    - Batch size\n",
    "    - Number of epochs"
   ]
  },
  {
   "cell_type": "markdown",
   "metadata": {
    "slideshow": {
     "slide_type": "slide"
    }
   },
   "source": [
    "### Tensors and tensor operations\n",
    "Representing data and learning better representations"
   ]
  },
  {
   "cell_type": "markdown",
   "metadata": {
    "slideshow": {
     "slide_type": "slide"
    }
   },
   "source": [
    "#### Tensors\n",
    "* A _tensor_ is simply an n-dimensional array (with n axes)\n",
    "    * 2D tensor: matrix (samples, features)\n",
    "    * 3D tensor: grayscale images (samples, height, width)\n",
    "        - or time series (samples, timesteps, features)\n",
    "    * 4D tensor: color images (samples, height, width, channels)\n",
    "    * 5D tensor: video (amples, frames, height, width, channels)  \n",
    "    \n",
    "<img src=\"../images/08_timeseries.png\" alt=\"ml\" style=\"float: left; width: 30%;\"/>\n",
    "<img src=\"../images/08_images.png\" alt=\"ml\" style=\"float: left; width: 30%;\"/>"
   ]
  },
  {
   "cell_type": "markdown",
   "metadata": {
    "slideshow": {
     "slide_type": "slide"
    }
   },
   "source": [
    "#### Tensor operations\n",
    "The operations that neural network layers perform on the data can be reduced to a handful of tensor operations.\n",
    "\n",
    "``` python\n",
    "keras.layers.Dense(512, activation='relu') \n",
    "```\n",
    "\n",
    "can be interpreted as a function\n",
    "\n",
    "``` python\n",
    "y = relu(dot(W, x) + b)\n",
    "```\n",
    "\n",
    "* takes a 2D tensor $x$ and returns a new 2D tensor $y$\n",
    "* uses a 2D weight tensor $W$ and a bias vector $b$\n",
    "* performs a dot product, addition, and $relu(x) = max(x,0)$"
   ]
  },
  {
   "cell_type": "markdown",
   "metadata": {
    "slideshow": {
     "slide_type": "slide"
    }
   },
   "source": [
    "#### Element-wise operations\n",
    "\n",
    "ReLU and addition are element-wise operations. Since numpy arrays support element-wise operations natively, these are simply:\n",
    "\n",
    "``` python\n",
    "def relu(x):\n",
    "  return np.maximum(x, 0.)\n",
    "\n",
    "def add(x, y):\n",
    "  return x + y\n",
    "```\n",
    "\n",
    "Note: if y has a lower dimension than x, it will be _broadcasted_: axes are added to match the dimensionality, and y is repeated along the new axes \n",
    "\n",
    "``` python\n",
    ">>> np.array([[1,2],[3,4]]) + np.array([10,20])\n",
    "array([[11, 22],\n",
    "       [13, 24]])\n",
    "```"
   ]
  },
  {
   "cell_type": "markdown",
   "metadata": {
    "slideshow": {
     "slide_type": "slide"
    }
   },
   "source": [
    "#### Tensor dot\n",
    "The dot product $x . y$ of two tensors can also be done easily with numpy:\n",
    "``` python \n",
    "z = np.dot(x, y)\n",
    "```\n",
    "where \n",
    "``` python \n",
    "z[i,j] = x[i,:] * y[:,j]\n",
    "```\n",
    "\n",
    "<img src=\"../images/08_dot.png\" alt=\"ml\" style=\"float: left; width: 30%;\"/>\n"
   ]
  },
  {
   "cell_type": "markdown",
   "metadata": {
    "slideshow": {
     "slide_type": "slide"
    }
   },
   "source": [
    "#### Geometric interpretation\n",
    "* Dot products and additions change how data points relate to each other\n",
    "* We aim to find a transformation of the data points so that it becomes easy to:\n",
    "    - separate the classes (classification)\n",
    "    - learn a simple function (regression)\n",
    "\n",
    "<img src=\"../images/08_addition.png\" alt=\"ml\" style=\"float: left; width: 25%;\"/>\n",
    "<img src=\"../images/08_dotgeom.png\" alt=\"ml\" style=\"float: left; width: 30%;\"/>"
   ]
  },
  {
   "cell_type": "markdown",
   "metadata": {
    "slideshow": {
     "slide_type": "slide"
    }
   },
   "source": [
    "### Gradient-based optimization\n",
    "* We saw that a layer performs an operation like:\n",
    "``` python\n",
    "y = relu(dot(W, x) + b)\n",
    "```\n",
    "\n",
    "* How to find good values for $W$ and $b$ so that the data is transformed to a useful representation?\n",
    "* Start with a random initialization, then loop:\n",
    "    1. Draw a batch of training data $x$\n",
    "    2. _Forward pass_: run the network on $x$ to yield $y_{pred}$ (tensor operations)\n",
    "    3. Compute the loss (mismatch between  $y_{pred}$ and $y$)\n",
    "    4. Update $W$, $b$ in a way that slightly reduces the loss (OK, but how?)"
   ]
  },
  {
   "cell_type": "markdown",
   "metadata": {
    "slideshow": {
     "slide_type": "slide"
    }
   },
   "source": [
    "#### Update rule\n",
    "Naive approach (expensive):\n",
    "* Choose one weight $w_{i,j}$ to optimize, freeze the others\n",
    "* Run the network (twice) with $w_{i,j} - \\epsilon$ and $w_{i,j} + \\epsilon$\n",
    "* Compute the losses given current batch x\n",
    "* Keep the one that reduces the loss most, then repeat"
   ]
  },
  {
   "cell_type": "markdown",
   "metadata": {
    "slideshow": {
     "slide_type": "slide"
    }
   },
   "source": [
    "<img src=\"../images/08_gradient.png\" alt=\"ml\" style=\"float: right; width: 30%;\"/>\n",
    "\n",
    "Better:\n",
    "* Choose a loss function f that is _differentiable_\n",
    "    * Also all underlying tensor operations need to be differentiable\n",
    "* Then we can compute the derivative $\\frac{\\partial f(x,w_{i,j})}{\\partial w_{i,j}} = a$\n",
    "* So that $f(x,w_{i,j} + \\epsilon) = y + a * \\epsilon$\n",
    "* We can now estimate better weights without recomputing $f$"
   ]
  },
  {
   "cell_type": "markdown",
   "metadata": {
    "slideshow": {
     "slide_type": "slide"
    }
   },
   "source": [
    "#### Gradients\n",
    "* A _gradient_ is the generalization of a derivate to n-dimensional inputs\n",
    "    * Approximates the _curvature_ of the loss function $f(x,W)$ around a given point $W$\n",
    "* Update: if $f$ is differentiable, then $W_1$ = $W_0$ - $\\frac{\\partial f(W_0)}{\\partial W} * step$ \n",
    "    * step is a small scaling factor\n",
    "    * Go against the curvature to a lower place on the curve\n",
    "* Now repeat with a new batch of data $x$\n",
    "\n",
    "<img src=\"../images/08_2dgradient.png\" alt=\"ml\" style=\"float: left; width: 40%;\"/>\n"
   ]
  },
  {
   "cell_type": "markdown",
   "metadata": {
    "slideshow": {
     "slide_type": "slide"
    }
   },
   "source": [
    "#### Stochastic gradient descent (SGD)\n",
    "Mini-batch SGD:\n",
    "1. Draw a batch of *batch_size* training data $x$ and $y$\n",
    "2. _Forward pass_: run the network on $x$ to yield $y_{pred}$ (tensor operations)\n",
    "3. Compute the loss L (mismatch between  $y_{pred}$ and $y$)\n",
    "4. _Backward pass_: Compute the gradient of the loss with regard to $W$\n",
    "5. Update W: $W_{i+1} = W_i - \\frac{\\partial L(x, W_i)}{\\partial W} * step$\n",
    "\n",
    "Repeat until n passes (epochs) are made through through the entire training set."
   ]
  },
  {
   "cell_type": "markdown",
   "metadata": {
    "slideshow": {
     "slide_type": "slide"
    }
   },
   "source": [
    "SGD Variants:\n",
    "* Batch Gradient Descent: compute gradient on entire training set\n",
    "    - More accurate gradients, but more expensive\n",
    "* True Stochastic Gradient Descent: repeat for each individual data points (noisy)\n",
    "* Minibatch SGD strikes a balance between the two (given the right batch size)\n",
    "    \n",
    "<img src=\"../images/08_sgd1d.png\" alt=\"ml\" style=\"float: left; width: 25%;\"/>\n",
    "<img src=\"../images/08_SGD.png\" alt=\"ml\" style=\"float: left; width: 400px;\"/>"
   ]
  },
  {
   "cell_type": "markdown",
   "metadata": {
    "slideshow": {
     "slide_type": "slide"
    }
   },
   "source": [
    "#### SGD: many more variants\n",
    "* With SGD, it is quite easy to get stuck in a local minimum\n",
    "* Learning rate decay: start with a big step size and then decrease\n",
    "* Momentum: do a larger update if previous update has large loss improvement\n",
    "    - Like a ball that gains speed if it goes down steeply\n",
    "* Adaptive step size for each W_i: adam, Adagrad,...\n",
    "    - See http://ruder.io/optimizing-gradient-descent/index.html\n",
    "* Some intuitions say that in high-dimensional spaces, most local minima are near the global minimum\n",
    "\n",
    "<img src=\"../images/08_sgdvars.png\" alt=\"ml\" style=\"float: left; width: 300px;\"/>"
   ]
  },
  {
   "cell_type": "markdown",
   "metadata": {
    "slideshow": {
     "slide_type": "slide"
    }
   },
   "source": [
    "#### Backpropagation\n",
    "* In practice, a neural network function consist of many tensor operations chained together\n",
    "    - e.g. $f(W1, W2, W3) = a(W1, b(W2, c(W3)))$\n",
    "* As long as each tensor operation is differentiable, we can still compute the gradient thanks to the chain rule:\n",
    "    $$f(g(x)) = f'(g(x)) * g'(x)$$\n",
    "* We can let the gradient _backpropagate_ through the layers\n",
    "* So, if we have a hidden node $h(x)=f(W_1 x+b_1)$, $net(x) = W_1 x+b_1$, and output node $o(x)=g(W_2 h(x)+b_2)$\n",
    "\n",
    "<img src=\"../images/08_chainrule2.png\" alt=\"ml\" style=\"width: 600px;\"/>"
   ]
  },
  {
   "cell_type": "markdown",
   "metadata": {
    "slideshow": {
     "slide_type": "slide"
    }
   },
   "source": [
    "### Understanding $\\frac{\\partial h(x)}{\\partial net(x)}$\n",
    "- Imagine a demon that adds a little change $\\Delta u_k$ to the input of neuron $k$\n",
    "    - The neuron now outputs $\\sigma(u_k + \\Delta u_k)$ instead of $\\sigma(u_k)$\n",
    "    - Propagates through network, ultimately causing an error $\\frac{\\delta E}{\\delta u_k} \\Delta u_k$\n",
    "- A good demon helps you improve the error by trying to find a $\\Delta u_k$ that reduces the error\n",
    "    - If $\\frac{\\delta E}{\\delta u_k}$ is large, choose $\\Delta u_k$ to reduce it\n",
    "\n",
    "![Tampering with the weights creates an error downstream.](./images/07_demon.png)"
   ]
  },
  {
   "cell_type": "markdown",
   "metadata": {
    "slideshow": {
     "slide_type": "slide"
    }
   },
   "source": [
    "### Backpropagation in action\n",
    "To get an intuitive understanding of how backpropagation works, here is a nice animation of the entire process:\n",
    "    https://youtu.be/Ilg3gGewQ5U?list=PLZHQObOWTQDNU6R1_67000Dx_ZCJB-3pi"
   ]
  },
  {
   "cell_type": "markdown",
   "metadata": {
    "slideshow": {
     "slide_type": "slide"
    }
   },
   "source": [
    "#### Symbolic and automatic differentiation\n",
    "Symbolic differentiation: given a chain of operations with a known derivative, we can compute a _gradient function_ for the chain\n",
    "* Decomposes functions into simpler functions via the chain rule\n",
    "* We can call the gradient function to get the gradient value for every model parameter\n",
    "\n",
    "Automatic differentiation: evaluate the derivate of a function numerically for faster calculation \n",
    "\n",
    "\n",
    "Modern tools such as TensorFlow do this for you so you don't have to implement backpropagation"
   ]
  },
  {
   "cell_type": "markdown",
   "metadata": {
    "slideshow": {
     "slide_type": "slide"
    }
   },
   "source": [
    "### Further reading\n",
    "\n",
    "\n",
    "https://www.tensorflow.org/versions/r0.10/tutorials/\n",
    "\n",
    "http://playground.tensorflow.org\n",
    "\n",
    "https://www.tensorflow.org/versions/r0.10/get_started/basic_usage\n",
    "\n",
    "https://www.tensorflow.org/versions/r0.10/tutorials/mnist/beginners/\n",
    "    \n",
    "https://keras.io/\n",
    "\n",
    "Tensorboard web interface"
   ]
  },
  {
   "cell_type": "code",
   "execution_count": null,
   "metadata": {},
   "outputs": [],
   "source": []
  }
 ],
 "metadata": {
  "anaconda-cloud": {},
  "celltoolbar": "Slideshow",
  "kernelspec": {
   "display_name": "Python 3",
   "language": "python",
   "name": "python3"
  },
  "language_info": {
   "codemirror_mode": {
    "name": "ipython",
    "version": 3
   },
   "file_extension": ".py",
   "mimetype": "text/x-python",
   "name": "python",
   "nbconvert_exporter": "python",
   "pygments_lexer": "ipython3",
   "version": "3.7.3"
  }
 },
 "nbformat": 4,
 "nbformat_minor": 4
}
